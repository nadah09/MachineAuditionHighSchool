{
  "nbformat": 4,
  "nbformat_minor": 0,
  "metadata": {
    "colab": {
      "name": "dynamics.ipynb",
      "provenance": [],
      "authorship_tag": "ABX9TyPVCL3c2uVrNmTAcb1aItwo",
      "include_colab_link": true
    },
    "kernelspec": {
      "name": "python3",
      "display_name": "Python 3"
    },
    "language_info": {
      "name": "python"
    }
  },
  "cells": [
    {
      "cell_type": "markdown",
      "metadata": {
        "id": "view-in-github",
        "colab_type": "text"
      },
      "source": [
        "<a href=\"https://colab.research.google.com/github/nadah09/MachineAuditionHighSchool/blob/main/dynamics.ipynb\" target=\"_parent\"><img src=\"https://colab.research.google.com/assets/colab-badge.svg\" alt=\"Open In Colab\"/></a>"
      ]
    },
    {
      "cell_type": "code",
      "metadata": {
        "colab": {
          "base_uri": "https://localhost:8080/"
        },
        "id": "yUI6VZ4zBSVp",
        "outputId": "d7c270e2-123f-4654-8450-f7065732d8d4"
      },
      "source": [
        "!wget \"https://sigproc.mit.edu/_static/spring21/software/lib6003-0.0.4.tar.gz\"\n",
        "!tar -xvf lib6003-0.0.4.tar.gz\n",
        "!cd lib6003-0.0.4 && /usr/local/bin/python setup.py install\n",
        "!apt install libasound2-dev portaudio19-dev libportaudio2 libportaudiocpp0 ffmpeg\n",
        "!pip install pyaudio"
      ],
      "execution_count": 1,
      "outputs": [
        {
          "output_type": "stream",
          "text": [
            "--2021-05-29 17:24:05--  https://sigproc.mit.edu/_static/spring21/software/lib6003-0.0.4.tar.gz\n",
            "Resolving sigproc.mit.edu (sigproc.mit.edu)... 18.25.4.177\n",
            "Connecting to sigproc.mit.edu (sigproc.mit.edu)|18.25.4.177|:443... connected.\n",
            "HTTP request sent, awaiting response... 200 OK\n",
            "Length: 21264 (21K) [application/x-tar]\n",
            "Saving to: ‘lib6003-0.0.4.tar.gz.1’\n",
            "\n",
            "\rlib6003-0.0.4.tar.g   0%[                    ]       0  --.-KB/s               \rlib6003-0.0.4.tar.g 100%[===================>]  20.77K  --.-KB/s    in 0s      \n",
            "\n",
            "2021-05-29 17:24:05 (321 MB/s) - ‘lib6003-0.0.4.tar.gz.1’ saved [21264/21264]\n",
            "\n",
            "lib6003-0.0.4/\n",
            "lib6003-0.0.4/LICENSE\n",
            "lib6003-0.0.4/MANIFEST.in\n",
            "lib6003-0.0.4/PKG-INFO\n",
            "lib6003-0.0.4/README\n",
            "lib6003-0.0.4/lib6003/\n",
            "lib6003-0.0.4/lib6003/__init__.py\n",
            "lib6003-0.0.4/lib6003/audio.py\n",
            "lib6003-0.0.4/lib6003/fft.py\n",
            "lib6003-0.0.4/lib6003/image.py\n",
            "lib6003-0.0.4/lib6003/wavfile.py\n",
            "lib6003-0.0.4/lib6003.egg-info/\n",
            "lib6003-0.0.4/lib6003.egg-info/PKG-INFO\n",
            "lib6003-0.0.4/lib6003.egg-info/SOURCES.txt\n",
            "lib6003-0.0.4/lib6003.egg-info/dependency_links.txt\n",
            "lib6003-0.0.4/lib6003.egg-info/requires.txt\n",
            "lib6003-0.0.4/lib6003.egg-info/top_level.txt\n",
            "lib6003-0.0.4/requirements.txt\n",
            "lib6003-0.0.4/setup.cfg\n",
            "lib6003-0.0.4/setup.py\n",
            "running install\n",
            "running bdist_egg\n",
            "running egg_info\n",
            "writing lib6003.egg-info/PKG-INFO\n",
            "writing dependency_links to lib6003.egg-info/dependency_links.txt\n",
            "writing requirements to lib6003.egg-info/requires.txt\n",
            "writing top-level names to lib6003.egg-info/top_level.txt\n",
            "adding license file 'LICENSE' (matched pattern 'LICEN[CS]E*')\n",
            "reading manifest file 'lib6003.egg-info/SOURCES.txt'\n",
            "reading manifest template 'MANIFEST.in'\n",
            "writing manifest file 'lib6003.egg-info/SOURCES.txt'\n",
            "installing library code to build/bdist.linux-x86_64/egg\n",
            "running install_lib\n",
            "running build_py\n",
            "creating build/bdist.linux-x86_64/egg\n",
            "creating build/bdist.linux-x86_64/egg/lib6003\n",
            "copying build/lib/lib6003/__init__.py -> build/bdist.linux-x86_64/egg/lib6003\n",
            "copying build/lib/lib6003/fft.py -> build/bdist.linux-x86_64/egg/lib6003\n",
            "copying build/lib/lib6003/image.py -> build/bdist.linux-x86_64/egg/lib6003\n",
            "copying build/lib/lib6003/wavfile.py -> build/bdist.linux-x86_64/egg/lib6003\n",
            "copying build/lib/lib6003/audio.py -> build/bdist.linux-x86_64/egg/lib6003\n",
            "byte-compiling build/bdist.linux-x86_64/egg/lib6003/__init__.py to __init__.cpython-37.pyc\n",
            "byte-compiling build/bdist.linux-x86_64/egg/lib6003/fft.py to fft.cpython-37.pyc\n",
            "byte-compiling build/bdist.linux-x86_64/egg/lib6003/image.py to image.cpython-37.pyc\n",
            "byte-compiling build/bdist.linux-x86_64/egg/lib6003/wavfile.py to wavfile.cpython-37.pyc\n",
            "byte-compiling build/bdist.linux-x86_64/egg/lib6003/audio.py to audio.cpython-37.pyc\n",
            "creating build/bdist.linux-x86_64/egg/EGG-INFO\n",
            "copying lib6003.egg-info/PKG-INFO -> build/bdist.linux-x86_64/egg/EGG-INFO\n",
            "copying lib6003.egg-info/SOURCES.txt -> build/bdist.linux-x86_64/egg/EGG-INFO\n",
            "copying lib6003.egg-info/dependency_links.txt -> build/bdist.linux-x86_64/egg/EGG-INFO\n",
            "copying lib6003.egg-info/requires.txt -> build/bdist.linux-x86_64/egg/EGG-INFO\n",
            "copying lib6003.egg-info/top_level.txt -> build/bdist.linux-x86_64/egg/EGG-INFO\n",
            "zip_safe flag not set; analyzing archive contents...\n",
            "creating 'dist/lib6003-0.0.4-py3.7.egg' and adding 'build/bdist.linux-x86_64/egg' to it\n",
            "removing 'build/bdist.linux-x86_64/egg' (and everything under it)\n",
            "Processing lib6003-0.0.4-py3.7.egg\n",
            "Removing /usr/local/lib/python3.7/dist-packages/lib6003-0.0.4-py3.7.egg\n",
            "Copying lib6003-0.0.4-py3.7.egg to /usr/local/lib/python3.7/dist-packages\n",
            "lib6003 0.0.4 is already the active version in easy-install.pth\n",
            "\n",
            "Installed /usr/local/lib/python3.7/dist-packages/lib6003-0.0.4-py3.7.egg\n",
            "Processing dependencies for lib6003==0.0.4\n",
            "Searching for Pillow==7.1.2\n",
            "Best match: Pillow 7.1.2\n",
            "Adding Pillow 7.1.2 to easy-install.pth file\n",
            "\n",
            "Using /usr/local/lib/python3.7/dist-packages\n",
            "Searching for numpy==1.19.5\n",
            "Best match: numpy 1.19.5\n",
            "Adding numpy 1.19.5 to easy-install.pth file\n",
            "Installing f2py script to /usr/local/bin\n",
            "Installing f2py3 script to /usr/local/bin\n",
            "Installing f2py3.7 script to /usr/local/bin\n",
            "\n",
            "Using /usr/local/lib/python3.7/dist-packages\n",
            "Searching for matplotlib==3.2.2\n",
            "Best match: matplotlib 3.2.2\n",
            "Adding matplotlib 3.2.2 to easy-install.pth file\n",
            "\n",
            "Using /usr/local/lib/python3.7/dist-packages\n",
            "Searching for cycler==0.10.0\n",
            "Best match: cycler 0.10.0\n",
            "Adding cycler 0.10.0 to easy-install.pth file\n",
            "\n",
            "Using /usr/local/lib/python3.7/dist-packages\n",
            "Searching for kiwisolver==1.3.1\n",
            "Best match: kiwisolver 1.3.1\n",
            "Adding kiwisolver 1.3.1 to easy-install.pth file\n",
            "\n",
            "Using /usr/local/lib/python3.7/dist-packages\n",
            "Searching for python-dateutil==2.8.1\n",
            "Best match: python-dateutil 2.8.1\n",
            "Adding python-dateutil 2.8.1 to easy-install.pth file\n",
            "\n",
            "Using /usr/local/lib/python3.7/dist-packages\n",
            "Searching for pyparsing==2.4.7\n",
            "Best match: pyparsing 2.4.7\n",
            "Adding pyparsing 2.4.7 to easy-install.pth file\n",
            "\n",
            "Using /usr/local/lib/python3.7/dist-packages\n",
            "Searching for six==1.15.0\n",
            "Best match: six 1.15.0\n",
            "Adding six 1.15.0 to easy-install.pth file\n",
            "\n",
            "Using /usr/local/lib/python3.7/dist-packages\n",
            "Finished processing dependencies for lib6003==0.0.4\n",
            "Reading package lists... Done\n",
            "Building dependency tree       \n",
            "Reading state information... Done\n",
            "libportaudio2 is already the newest version (19.6.0-1).\n",
            "libportaudiocpp0 is already the newest version (19.6.0-1).\n",
            "portaudio19-dev is already the newest version (19.6.0-1).\n",
            "libasound2-dev is already the newest version (1.1.3-5ubuntu0.5).\n",
            "ffmpeg is already the newest version (7:3.4.8-0ubuntu0.2).\n",
            "The following package was automatically installed and is no longer required:\n",
            "  libnvidia-common-460\n",
            "Use 'apt autoremove' to remove it.\n",
            "0 upgraded, 0 newly installed, 0 to remove and 34 not upgraded.\n",
            "Requirement already satisfied: pyaudio in /usr/local/lib/python3.7/dist-packages (0.2.11)\n"
          ],
          "name": "stdout"
        }
      ]
    },
    {
      "cell_type": "markdown",
      "metadata": {
        "id": "3J6--WRRKqb8"
      },
      "source": [
        "Restart runtime"
      ]
    },
    {
      "cell_type": "code",
      "metadata": {
        "id": "ZpDTkobiByXq"
      },
      "source": [
        "from lib6003.audio import wav_read, wav_write, wav_play\n",
        "from math import sin, cos, pi, e\n",
        "import pyaudio\n",
        "import matplotlib.pyplot as plt "
      ],
      "execution_count": 2,
      "outputs": []
    },
    {
      "cell_type": "markdown",
      "metadata": {
        "id": "phwwpLevJ6u-"
      },
      "source": [
        ""
      ]
    },
    {
      "cell_type": "code",
      "metadata": {
        "id": "aPbdKELiIsTG"
      },
      "source": [
        "j = 1j\n",
        "fs = 22050\n",
        "\n",
        "tune = [\n",
        "    (369.99, 0.16666666666666666), (415.3, 0.16666666666666666),\n",
        "    (440.0, 0.5), (369.99, 0.5), (369.99, 0.3333333333333333),\n",
        "    (369.99, 0.16666666666666666), (369.99, 0.3333333333333333),\n",
        "    (369.99, 0.3333333333333333), (329.63, 0.16666666666666666),\n",
        "    (369.99, 0.3333333333333333), (369.99, 0.3333333333333333),\n",
        "    (329.63, 0.16666666666666666), (329.63, 0.5),\n",
        "    (246.94, 0.3333333333333333), (493.88, 0.3333333333333333),\n",
        "    (246.94, 0.3333333333333333), (493.88, 0.3333333333333333),\n",
        "    (369.99, 0.16666666666666666), (415.3, 0.16666666666666666),\n",
        "    (440.0, 0.5), (369.99, 0.5), (369.99, 0.3333333333333333),\n",
        "    (369.99, 0.16666666666666666), (369.99, 0.3333333333333333),\n",
        "    (369.99, 0.3333333333333333), (329.63, 0.16666666666666666),\n",
        "    (369.99, 0.3333333333333333), (369.99, 0.3333333333333333),\n",
        "    (329.63, 0.16666666666666666), (329.63, 0.5),\n",
        "    (246.94, 0.3333333333333333), (493.88, 0.3333333333333333),\n",
        "    (246.94, 0.3333333333333333), (493.88, 0.6666666666666666),\n",
        "    (277.18, 0.3333333333333333), (369.99, 0.3333333333333333),\n",
        "    (415.3, 0.3333333333333333), (440.0, 0.3333333333333333),\n",
        "    (415.3, 0.16666666666666666), (440.0, 0.16666666666666666),\n",
        "    (415.3, 0.16666666666666666), (369.99, 0.16666666666666666),\n",
        "    (415.3, 0.3333333333333333), (369.99, 0.3333333333333333),\n",
        "    (277.18, 1.3333333333333333), (246.94, 1.1666666666666665),\n",
        "    (277.18, 0.16666666666666666), (277.18, 0.3333333333333333),\n",
        "    (369.99, 0.3333333333333333), (415.3, 0.3333333333333333),\n",
        "    (440.0, 0.3333333333333333), (415.3, 0.6666666666666666),\n",
        "    (369.99, 0.6666666666666666), (277.18, 1.3333333333333333),\n",
        "    (246.94, 1.3333333333333333), (277.18, 0.3333333333333333),\n",
        "    (369.99, 0.3333333333333333), (415.3, 0.3333333333333333),\n",
        "    (440.0, 0.3333333333333333), (415.3, 0.16666666666666666),\n",
        "    (440.0, 0.16666666666666666), (415.3, 0.16666666666666666),\n",
        "    (369.99, 0.16666666666666666), (415.3, 0.3333333333333333),\n",
        "    (369.99, 0.3333333333333333), (277.18, 1.3333333333333333),\n",
        "    (246.94, 1.1666666666666665), (277.18, 0.16666666666666666),\n",
        "    (277.18, 0.3333333333333333), (369.99, 0.3333333333333333),\n",
        "    (415.3, 0.3333333333333333), (440.0, 0.3333333333333333),\n",
        "    (415.3, 0.6666666666666666), (369.99, 0.6666666666666666),\n",
        "    (277.18, 1.3333333333333333), (246.94, 1.3333333333333333),\n",
        "    (277.18, 1.3333333333333333)]"
      ],
      "execution_count": 3,
      "outputs": []
    },
    {
      "cell_type": "markdown",
      "metadata": {
        "id": "wwaPuD52X_eO"
      },
      "source": [
        "Below we see code to construct a tune from this frequency, duration list. We use our sampling rate to find the corresponding frequency, and append as many samples as we need to play the note for the duration given. We then return a list of samples that, when played, will sound like the song we gave the function."
      ]
    },
    {
      "cell_type": "code",
      "metadata": {
        "id": "EziNtvmFIzFj"
      },
      "source": [
        "def make_tune(tune):\n",
        "    \"\"\"\n",
        "    Constructs wav file samples from frequency, duration list of notes and sampling rate\n",
        "    \"\"\"\n",
        "    period = 0\n",
        "    samples = []\n",
        "    for freq, duration in tune:\n",
        "        period += duration\n",
        "        f = freq\n",
        "        seconds = duration\n",
        "        Omega = 2*pi*f/fs\n",
        "        for n in range(int(seconds*fs)): # TODO: how many samples should we generate?\n",
        "            samples.append(sin(Omega*n))\n",
        "    return samples\n"
      ],
      "execution_count": 4,
      "outputs": []
    },
    {
      "cell_type": "markdown",
      "metadata": {
        "id": "Axgfq_2zYPQT"
      },
      "source": [
        "Using this tune, we will now start exploring the amplitude property of signals! Below we have given you a helper function designed to alter the volume of the signal. If you give this function the result of the make_tune function, as well as a percentage change in volume (1 being same volume, 0.5 being half volume, and 2 being double volume) we can create different volumes for this music."
      ]
    },
    {
      "cell_type": "code",
      "metadata": {
        "id": "-sZEnhi7KIVa"
      },
      "source": [
        "def adjust_volume(samples, volume = 1):\n",
        "  \"\"\"\n",
        "  Reconstructs wav file given a list of samples from make_tune and a percentage change in volume (1 = same volume, 0.5 = half volume, 2 = double volume)\n",
        "  \"\"\"\n",
        "  return [i*volume for i in samples]"
      ],
      "execution_count": 5,
      "outputs": []
    },
    {
      "cell_type": "markdown",
      "metadata": {
        "id": "Lprtdqtnqmu7"
      },
      "source": [
        "Here we've included the code for synthesizing the tune above into a list of samples."
      ]
    },
    {
      "cell_type": "code",
      "metadata": {
        "colab": {
          "base_uri": "https://localhost:8080/",
          "height": 265
        },
        "id": "jk5IbdcIIu1V",
        "outputId": "c159e747-df72-4a36-aa29-615fa346cc9b"
      },
      "source": [
        "samples = make_tune(tune)\n",
        "wav_write(samples,fs, \"test.wav\")\n",
        "plt.plot(samples[0:1000])\n",
        "plt.show()"
      ],
      "execution_count": 7,
      "outputs": [
        {
          "output_type": "display_data",
          "data": {
            "image/png": "[encoded data removed]",
            "text/plain": [
              "<Figure size 432x288 with 1 Axes>"
            ]
          },
          "metadata": {
            "tags": [],
            "needs_background": "light"
          }
        }
      ]
    },
    {
      "cell_type": "markdown",
      "metadata": {
        "id": "nJh-J_88qrp9"
      },
      "source": [
        "Now it's your turn to play with amplitude! Given this list of samples, make a new wav file with twice the amplitude, and another with double the amplitude."
      ]
    },
    {
      "cell_type": "code",
      "metadata": {
        "colab": {
          "base_uri": "https://localhost:8080/",
          "height": 265
        },
        "id": "z2l4CTOTqmCZ",
        "outputId": "f647895c-f1c0-41c3-c550-7ce855a03f29"
      },
      "source": [
        "doubled = #TODO: write code to make the same tune with twice the volume\n",
        "wav_write(doubled,fs, \"doubled.wav\")\n",
        "plt.plot(doubled[0:1000])\n",
        "plt.show()"
      ],
      "execution_count": 10,
      "outputs": [
        {
          "output_type": "display_data",
          "data": {
            "image/png": "[encoded data removed]",
            "text/plain": [
              "<Figure size 432x288 with 1 Axes>"
            ]
          },
          "metadata": {
            "tags": [],
            "needs_background": "light"
          }
        }
      ]
    },
    {
      "cell_type": "code",
      "metadata": {
        "colab": {
          "base_uri": "https://localhost:8080/",
          "height": 265
        },
        "id": "L9jffmTVKFwP",
        "outputId": "ac03530d-334a-4eb2-d496-8731ff834f59"
      },
      "source": [
        "halved = #TODO: write code to make the same tune with half the volume\n",
        "wav_write(halved,fs, \"halved.wav\")\n",
        "plt.plot(halved[0:1000])\n",
        "plt.show()"
      ],
      "execution_count": 11,
      "outputs": [
        {
          "output_type": "display_data",
          "data": {
            "image/png": "[encoded data removed]",
            "text/plain": [
              "<Figure size 432x288 with 1 Axes>"
            ]
          },
          "metadata": {
            "tags": [],
            "needs_background": "light"
          }
        }
      ]
    },
    {
      "cell_type": "markdown",
      "metadata": {
        "id": "nWGvxp7n2Wj6"
      },
      "source": [
        "What do you notice about the two resulting files that you created? How does volume affect the wave, as well as what you hear?"
      ]
    }
  ]
}