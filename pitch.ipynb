{
  "nbformat": 4,
  "nbformat_minor": 0,
  "metadata": {
    "colab": {
      "name": "pitch.ipynb",
      "provenance": [],
      "authorship_tag": "ABX9TyPb4zExijnEZBKOGrvcdn+X",
      "include_colab_link": true
    },
    "kernelspec": {
      "name": "python3",
      "display_name": "Python 3"
    },
    "language_info": {
      "name": "python"
    }
  },
  "cells": [
    {
      "cell_type": "markdown",
      "metadata": {
        "id": "view-in-github",
        "colab_type": "text"
      },
      "source": [
        "<a href=\"https://colab.research.google.com/github/nadah09/MachineAuditionHighSchool/blob/main/pitch.ipynb\" target=\"_parent\"><img src=\"https://colab.research.google.com/assets/colab-badge.svg\" alt=\"Open In Colab\"/></a>"
      ]
    },
    {
      "cell_type": "code",
      "metadata": {
        "colab": {
          "base_uri": "https://localhost:8080/"
        },
        "id": "iCKaenBDKs7H",
        "outputId": "0f345942-8fc0-46a4-97be-2685605c547e"
      },
      "source": [
        "!wget \"https://sigproc.mit.edu/_static/spring21/software/lib6003-0.0.4.tar.gz\"\n",
        "!tar -xvf lib6003-0.0.4.tar.gz\n",
        "!cd lib6003-0.0.4 && /usr/local/bin/python setup.py install\n",
        "!apt install libasound2-dev portaudio19-dev libportaudio2 libportaudiocpp0 ffmpeg\n",
        "!pip install pyaudio"
      ],
      "execution_count": 3,
      "outputs": [
        {
          "output_type": "stream",
          "text": [
            "--2021-05-30 17:09:59--  https://sigproc.mit.edu/_static/spring21/software/lib6003-0.0.4.tar.gz\n",
            "Resolving sigproc.mit.edu (sigproc.mit.edu)... 18.25.4.177\n",
            "Connecting to sigproc.mit.edu (sigproc.mit.edu)|18.25.4.177|:443... connected.\n",
            "HTTP request sent, awaiting response... 200 OK\n",
            "Length: 21264 (21K) [application/x-tar]\n",
            "Saving to: ‘lib6003-0.0.4.tar.gz.1’\n",
            "\n",
            "lib6003-0.0.4.tar.g 100%[===================>]  20.77K  --.-KB/s    in 0s      \n",
            "\n",
            "2021-05-30 17:10:00 (112 MB/s) - ‘lib6003-0.0.4.tar.gz.1’ saved [21264/21264]\n",
            "\n",
            "lib6003-0.0.4/\n",
            "lib6003-0.0.4/LICENSE\n",
            "lib6003-0.0.4/MANIFEST.in\n",
            "lib6003-0.0.4/PKG-INFO\n",
            "lib6003-0.0.4/README\n",
            "lib6003-0.0.4/lib6003/\n",
            "lib6003-0.0.4/lib6003/__init__.py\n",
            "lib6003-0.0.4/lib6003/audio.py\n",
            "lib6003-0.0.4/lib6003/fft.py\n",
            "lib6003-0.0.4/lib6003/image.py\n",
            "lib6003-0.0.4/lib6003/wavfile.py\n",
            "lib6003-0.0.4/lib6003.egg-info/\n",
            "lib6003-0.0.4/lib6003.egg-info/PKG-INFO\n",
            "lib6003-0.0.4/lib6003.egg-info/SOURCES.txt\n",
            "lib6003-0.0.4/lib6003.egg-info/dependency_links.txt\n",
            "lib6003-0.0.4/lib6003.egg-info/requires.txt\n",
            "lib6003-0.0.4/lib6003.egg-info/top_level.txt\n",
            "lib6003-0.0.4/requirements.txt\n",
            "lib6003-0.0.4/setup.cfg\n",
            "lib6003-0.0.4/setup.py\n",
            "running install\n",
            "running bdist_egg\n",
            "running egg_info\n",
            "writing lib6003.egg-info/PKG-INFO\n",
            "writing dependency_links to lib6003.egg-info/dependency_links.txt\n",
            "writing requirements to lib6003.egg-info/requires.txt\n",
            "writing top-level names to lib6003.egg-info/top_level.txt\n",
            "adding license file 'LICENSE' (matched pattern 'LICEN[CS]E*')\n",
            "reading manifest file 'lib6003.egg-info/SOURCES.txt'\n",
            "reading manifest template 'MANIFEST.in'\n",
            "writing manifest file 'lib6003.egg-info/SOURCES.txt'\n",
            "installing library code to build/bdist.linux-x86_64/egg\n",
            "running install_lib\n",
            "running build_py\n",
            "creating build/bdist.linux-x86_64/egg\n",
            "creating build/bdist.linux-x86_64/egg/lib6003\n",
            "copying build/lib/lib6003/__init__.py -> build/bdist.linux-x86_64/egg/lib6003\n",
            "copying build/lib/lib6003/fft.py -> build/bdist.linux-x86_64/egg/lib6003\n",
            "copying build/lib/lib6003/image.py -> build/bdist.linux-x86_64/egg/lib6003\n",
            "copying build/lib/lib6003/wavfile.py -> build/bdist.linux-x86_64/egg/lib6003\n",
            "copying build/lib/lib6003/audio.py -> build/bdist.linux-x86_64/egg/lib6003\n",
            "byte-compiling build/bdist.linux-x86_64/egg/lib6003/__init__.py to __init__.cpython-37.pyc\n",
            "byte-compiling build/bdist.linux-x86_64/egg/lib6003/fft.py to fft.cpython-37.pyc\n",
            "byte-compiling build/bdist.linux-x86_64/egg/lib6003/image.py to image.cpython-37.pyc\n",
            "byte-compiling build/bdist.linux-x86_64/egg/lib6003/wavfile.py to wavfile.cpython-37.pyc\n",
            "byte-compiling build/bdist.linux-x86_64/egg/lib6003/audio.py to audio.cpython-37.pyc\n",
            "creating build/bdist.linux-x86_64/egg/EGG-INFO\n",
            "copying lib6003.egg-info/PKG-INFO -> build/bdist.linux-x86_64/egg/EGG-INFO\n",
            "copying lib6003.egg-info/SOURCES.txt -> build/bdist.linux-x86_64/egg/EGG-INFO\n",
            "copying lib6003.egg-info/dependency_links.txt -> build/bdist.linux-x86_64/egg/EGG-INFO\n",
            "copying lib6003.egg-info/requires.txt -> build/bdist.linux-x86_64/egg/EGG-INFO\n",
            "copying lib6003.egg-info/top_level.txt -> build/bdist.linux-x86_64/egg/EGG-INFO\n",
            "zip_safe flag not set; analyzing archive contents...\n",
            "creating 'dist/lib6003-0.0.4-py3.7.egg' and adding 'build/bdist.linux-x86_64/egg' to it\n",
            "removing 'build/bdist.linux-x86_64/egg' (and everything under it)\n",
            "Processing lib6003-0.0.4-py3.7.egg\n",
            "Removing /usr/local/lib/python3.7/dist-packages/lib6003-0.0.4-py3.7.egg\n",
            "Copying lib6003-0.0.4-py3.7.egg to /usr/local/lib/python3.7/dist-packages\n",
            "lib6003 0.0.4 is already the active version in easy-install.pth\n",
            "\n",
            "Installed /usr/local/lib/python3.7/dist-packages/lib6003-0.0.4-py3.7.egg\n",
            "Processing dependencies for lib6003==0.0.4\n",
            "Searching for Pillow==7.1.2\n",
            "Best match: Pillow 7.1.2\n",
            "Adding Pillow 7.1.2 to easy-install.pth file\n",
            "\n",
            "Using /usr/local/lib/python3.7/dist-packages\n",
            "Searching for numpy==1.19.5\n",
            "Best match: numpy 1.19.5\n",
            "Adding numpy 1.19.5 to easy-install.pth file\n",
            "Installing f2py script to /usr/local/bin\n",
            "Installing f2py3 script to /usr/local/bin\n",
            "Installing f2py3.7 script to /usr/local/bin\n",
            "\n",
            "Using /usr/local/lib/python3.7/dist-packages\n",
            "Searching for matplotlib==3.2.2\n",
            "Best match: matplotlib 3.2.2\n",
            "Adding matplotlib 3.2.2 to easy-install.pth file\n",
            "\n",
            "Using /usr/local/lib/python3.7/dist-packages\n",
            "Searching for cycler==0.10.0\n",
            "Best match: cycler 0.10.0\n",
            "Adding cycler 0.10.0 to easy-install.pth file\n",
            "\n",
            "Using /usr/local/lib/python3.7/dist-packages\n",
            "Searching for pyparsing==2.4.7\n",
            "Best match: pyparsing 2.4.7\n",
            "Adding pyparsing 2.4.7 to easy-install.pth file\n",
            "\n",
            "Using /usr/local/lib/python3.7/dist-packages\n",
            "Searching for kiwisolver==1.3.1\n",
            "Best match: kiwisolver 1.3.1\n",
            "Adding kiwisolver 1.3.1 to easy-install.pth file\n",
            "\n",
            "Using /usr/local/lib/python3.7/dist-packages\n",
            "Searching for python-dateutil==2.8.1\n",
            "Best match: python-dateutil 2.8.1\n",
            "Adding python-dateutil 2.8.1 to easy-install.pth file\n",
            "\n",
            "Using /usr/local/lib/python3.7/dist-packages\n",
            "Searching for six==1.15.0\n",
            "Best match: six 1.15.0\n",
            "Adding six 1.15.0 to easy-install.pth file\n",
            "\n",
            "Using /usr/local/lib/python3.7/dist-packages\n",
            "Finished processing dependencies for lib6003==0.0.4\n",
            "Reading package lists... Done\n",
            "Building dependency tree       \n",
            "Reading state information... Done\n",
            "libportaudio2 is already the newest version (19.6.0-1).\n",
            "libportaudiocpp0 is already the newest version (19.6.0-1).\n",
            "portaudio19-dev is already the newest version (19.6.0-1).\n",
            "libasound2-dev is already the newest version (1.1.3-5ubuntu0.5).\n",
            "ffmpeg is already the newest version (7:3.4.8-0ubuntu0.2).\n",
            "The following package was automatically installed and is no longer required:\n",
            "  libnvidia-common-460\n",
            "Use 'apt autoremove' to remove it.\n",
            "0 upgraded, 0 newly installed, 0 to remove and 34 not upgraded.\n",
            "Requirement already satisfied: pyaudio in /usr/local/lib/python3.7/dist-packages (0.2.11)\n"
          ],
          "name": "stdout"
        }
      ]
    },
    {
      "cell_type": "code",
      "metadata": {
        "id": "Oy3eh9gAKy2j"
      },
      "source": [
        "from lib6003.audio import wav_read, wav_write, wav_play\n",
        "from math import sin, cos, pi, e\n",
        "import pyaudio\n",
        "import matplotlib.pyplot as plt \n",
        "import scipy\n",
        "import scipy.signal\n",
        "import numpy as np\n"
      ],
      "execution_count": 18,
      "outputs": []
    },
    {
      "cell_type": "code",
      "metadata": {
        "id": "6U_-PmsFPwaj"
      },
      "source": [
        "j = 1j\n",
        "fs = 22050"
      ],
      "execution_count": 5,
      "outputs": []
    },
    {
      "cell_type": "markdown",
      "metadata": {
        "id": "MdEZwmT32uQl"
      },
      "source": [
        "In this activity we will focus on how frequency affects the sound and shape of a waveform. We start with a simple tune as shown in the next box:"
      ]
    },
    {
      "cell_type": "code",
      "metadata": {
        "id": "c-2EveKrLtvK"
      },
      "source": [
        "tune = [(440.0, 0.5), (880.0, 0.5), (440.0, 0.5)]"
      ],
      "execution_count": 6,
      "outputs": []
    },
    {
      "cell_type": "markdown",
      "metadata": {
        "id": "a-ywwqsZPxgf"
      },
      "source": [
        "We also include the same helper functions you've seen before -- make_tune, and adjust_volume."
      ]
    },
    {
      "cell_type": "code",
      "metadata": {
        "id": "Qv_JtR0CQANK"
      },
      "source": [
        "def make_tune(tune):\n",
        "    \"\"\"\n",
        "    Constructs wav file samples from frequency, duration list of notes and sampling rate\n",
        "    \"\"\"\n",
        "    period = 0\n",
        "    samples = []\n",
        "    for freq, duration in tune:\n",
        "        period += duration\n",
        "        f = freq\n",
        "        seconds = duration\n",
        "        Omega = 2*pi*f/fs\n",
        "        for n in range(int(seconds*fs)): # TODO: how many samples should we generate?\n",
        "            samples.append(sin(Omega*n))\n",
        "    return samples\n",
        "  \n",
        "def adjust_volume(samples, volume = 1):\n",
        "  \"\"\"\n",
        "  Reconstructs wav file given a list of samples from make_tune and a percentage change in volume (1 = same volume, 0.5 = half volume, 2 = double volume)\n",
        "  \"\"\"\n",
        "  return [i*volume for i in samples]"
      ],
      "execution_count": 7,
      "outputs": []
    },
    {
      "cell_type": "markdown",
      "metadata": {
        "id": "X_O8jUwIQG45"
      },
      "source": [
        "Now we will create and plot the tune given. Run the following code:"
      ]
    },
    {
      "cell_type": "code",
      "metadata": {
        "colab": {
          "base_uri": "https://localhost:8080/",
          "height": 265
        },
        "id": "N9X7TfVgQM5k",
        "outputId": "648ac1fe-d18f-452d-ea57-a487a2e67491"
      },
      "source": [
        "samples = make_tune(tune)\n",
        "wav_write(samples,fs, \"freq.wav\")\n",
        "plt.plot(samples)\n",
        "plt.show()"
      ],
      "execution_count": 11,
      "outputs": [
        {
          "output_type": "display_data",
          "data": {
            "image/png": "[encoded data removed]",
            "text/plain": [
              "<Figure size 432x288 with 1 Axes>"
            ]
          },
          "metadata": {
            "tags": [],
            "needs_background": "light"
          }
        }
      ]
    },
    {
      "cell_type": "markdown",
      "metadata": {
        "id": "eaOoZxF8Qa8D"
      },
      "source": [
        "This plot doesn't seem super helpful! Instead, we introduce a Fourier Transform, a way of viewing the frequencies present in our wave. The code for this is shown below. "
      ]
    },
    {
      "cell_type": "code",
      "metadata": {
        "id": "WCkvGwzQQkf8"
      },
      "source": [
        "\tdef plotFFT(samples):\n",
        "\t\t\"\"\"\n",
        "\t\tPlots magnitude response of signal\n",
        "\t\t\"\"\"\n",
        "\t\tw, H = scipy.signal.freqz(samples)\n",
        "\t\tplt.plot(w, np.abs(H))\n",
        "\t\tplt.title(\"Frequencies\")\n",
        "\t\tplt.xlabel(\"Radian Frequency ($\\omega$)\")\n",
        "\t\tplt.ylabel(\"Amplitude\")\n",
        "\t\tplt.show()"
      ],
      "execution_count": 19,
      "outputs": []
    },
    {
      "cell_type": "code",
      "metadata": {
        "colab": {
          "base_uri": "https://localhost:8080/",
          "height": 299
        },
        "id": "pggbP-AfSUlM",
        "outputId": "a7a63f56-3a49-4585-a52a-e5cf8724c5ae"
      },
      "source": [
        "plotFFT(samples)"
      ],
      "execution_count": 20,
      "outputs": [
        {
          "output_type": "display_data",
          "data": {
            "image/png": "[encoded data removed]",
            "text/plain": [
              "<Figure size 432x288 with 1 Axes>"
            ]
          },
          "metadata": {
            "tags": [],
            "needs_background": "light"
          }
        }
      ]
    },
    {
      "cell_type": "markdown",
      "metadata": {
        "id": "VOYGidavSrt4"
      },
      "source": [
        "We can make much more sense of our signal with this plot! Here we see two frequencies -- 440, and 880, as we saw in our tune list."
      ]
    }
  ]
}