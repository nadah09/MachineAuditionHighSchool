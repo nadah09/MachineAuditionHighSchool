{
  "nbformat": 4,
  "nbformat_minor": 0,
  "metadata": {
    "colab": {
      "name": "pitch.ipynb",
      "provenance": [],
      "authorship_tag": "ABX9TyML7I+15N1yOvFqLSQpu946",
      "include_colab_link": true
    },
    "kernelspec": {
      "name": "python3",
      "display_name": "Python 3"
    },
    "language_info": {
      "name": "python"
    }
  },
  "cells": [
    {
      "cell_type": "markdown",
      "metadata": {
        "id": "view-in-github",
        "colab_type": "text"
      },
      "source": [
        "<a href=\"https://colab.research.google.com/github/nadah09/MachineAuditionHighSchool/blob/main/pitch.ipynb\" target=\"_parent\"><img src=\"https://colab.research.google.com/assets/colab-badge.svg\" alt=\"Open In Colab\"/></a>"
      ]
    },
    {
      "cell_type": "markdown",
      "metadata": {
        "id": "Ix3X7tdxPOAC"
      },
      "source": [
        "### Frequency and Pitch"
      ]
    },
    {
      "cell_type": "markdown",
      "metadata": {
        "id": "3s4J55JOPS-1"
      },
      "source": [
        "In this notebook, we pivot to the frequency property of a signal. The frequency of a signal impacts the pitch that we hear played. Lower frequencies correspond to lower pitched notes, and same for higher frequencies. Let's begin as before by installing our libraries."
      ]
    },
    {
      "cell_type": "code",
      "metadata": {
        "colab": {
          "base_uri": "https://localhost:8080/"
        },
        "id": "iCKaenBDKs7H",
        "outputId": "58bf1131-cf9a-405a-88ba-81a0000eacb9"
      },
      "source": [
        "!wget \"https://sigproc.mit.edu/_static/spring21/software/lib6003-0.0.4.tar.gz\"\n",
        "!tar -xvf lib6003-0.0.4.tar.gz\n",
        "!cd lib6003-0.0.4 && /usr/local/bin/python setup.py install\n",
        "!apt install libasound2-dev portaudio19-dev libportaudio2 libportaudiocpp0 ffmpeg\n",
        "!pip install pyaudio"
      ],
      "execution_count": 65,
      "outputs": [
        {
          "output_type": "stream",
          "text": [
            "--2021-06-01 02:07:30--  https://sigproc.mit.edu/_static/spring21/software/lib6003-0.0.4.tar.gz\n",
            "Resolving sigproc.mit.edu (sigproc.mit.edu)... 18.25.4.177\n",
            "Connecting to sigproc.mit.edu (sigproc.mit.edu)|18.25.4.177|:443... connected.\n",
            "HTTP request sent, awaiting response... 200 OK\n",
            "Length: 21264 (21K) [application/x-tar]\n",
            "Saving to: ‘lib6003-0.0.4.tar.gz.4’\n",
            "\n",
            "lib6003-0.0.4.tar.g 100%[===================>]  20.77K  --.-KB/s    in 0s      \n",
            "\n",
            "2021-06-01 02:07:31 (273 MB/s) - ‘lib6003-0.0.4.tar.gz.4’ saved [21264/21264]\n",
            "\n",
            "lib6003-0.0.4/\n",
            "lib6003-0.0.4/LICENSE\n",
            "lib6003-0.0.4/MANIFEST.in\n",
            "lib6003-0.0.4/PKG-INFO\n",
            "lib6003-0.0.4/README\n",
            "lib6003-0.0.4/lib6003/\n",
            "lib6003-0.0.4/lib6003/__init__.py\n",
            "lib6003-0.0.4/lib6003/audio.py\n",
            "lib6003-0.0.4/lib6003/fft.py\n",
            "lib6003-0.0.4/lib6003/image.py\n",
            "lib6003-0.0.4/lib6003/wavfile.py\n",
            "lib6003-0.0.4/lib6003.egg-info/\n",
            "lib6003-0.0.4/lib6003.egg-info/PKG-INFO\n",
            "lib6003-0.0.4/lib6003.egg-info/SOURCES.txt\n",
            "lib6003-0.0.4/lib6003.egg-info/dependency_links.txt\n",
            "lib6003-0.0.4/lib6003.egg-info/requires.txt\n",
            "lib6003-0.0.4/lib6003.egg-info/top_level.txt\n",
            "lib6003-0.0.4/requirements.txt\n",
            "lib6003-0.0.4/setup.cfg\n",
            "lib6003-0.0.4/setup.py\n",
            "running install\n",
            "running bdist_egg\n",
            "running egg_info\n",
            "writing lib6003.egg-info/PKG-INFO\n",
            "writing dependency_links to lib6003.egg-info/dependency_links.txt\n",
            "writing requirements to lib6003.egg-info/requires.txt\n",
            "writing top-level names to lib6003.egg-info/top_level.txt\n",
            "adding license file 'LICENSE' (matched pattern 'LICEN[CS]E*')\n",
            "reading manifest file 'lib6003.egg-info/SOURCES.txt'\n",
            "reading manifest template 'MANIFEST.in'\n",
            "writing manifest file 'lib6003.egg-info/SOURCES.txt'\n",
            "installing library code to build/bdist.linux-x86_64/egg\n",
            "running install_lib\n",
            "running build_py\n",
            "creating build/bdist.linux-x86_64/egg\n",
            "creating build/bdist.linux-x86_64/egg/lib6003\n",
            "copying build/lib/lib6003/__init__.py -> build/bdist.linux-x86_64/egg/lib6003\n",
            "copying build/lib/lib6003/fft.py -> build/bdist.linux-x86_64/egg/lib6003\n",
            "copying build/lib/lib6003/image.py -> build/bdist.linux-x86_64/egg/lib6003\n",
            "copying build/lib/lib6003/wavfile.py -> build/bdist.linux-x86_64/egg/lib6003\n",
            "copying build/lib/lib6003/audio.py -> build/bdist.linux-x86_64/egg/lib6003\n",
            "byte-compiling build/bdist.linux-x86_64/egg/lib6003/__init__.py to __init__.cpython-37.pyc\n",
            "byte-compiling build/bdist.linux-x86_64/egg/lib6003/fft.py to fft.cpython-37.pyc\n",
            "byte-compiling build/bdist.linux-x86_64/egg/lib6003/image.py to image.cpython-37.pyc\n",
            "byte-compiling build/bdist.linux-x86_64/egg/lib6003/wavfile.py to wavfile.cpython-37.pyc\n",
            "byte-compiling build/bdist.linux-x86_64/egg/lib6003/audio.py to audio.cpython-37.pyc\n",
            "creating build/bdist.linux-x86_64/egg/EGG-INFO\n",
            "copying lib6003.egg-info/PKG-INFO -> build/bdist.linux-x86_64/egg/EGG-INFO\n",
            "copying lib6003.egg-info/SOURCES.txt -> build/bdist.linux-x86_64/egg/EGG-INFO\n",
            "copying lib6003.egg-info/dependency_links.txt -> build/bdist.linux-x86_64/egg/EGG-INFO\n",
            "copying lib6003.egg-info/requires.txt -> build/bdist.linux-x86_64/egg/EGG-INFO\n",
            "copying lib6003.egg-info/top_level.txt -> build/bdist.linux-x86_64/egg/EGG-INFO\n",
            "zip_safe flag not set; analyzing archive contents...\n",
            "creating 'dist/lib6003-0.0.4-py3.7.egg' and adding 'build/bdist.linux-x86_64/egg' to it\n",
            "removing 'build/bdist.linux-x86_64/egg' (and everything under it)\n",
            "Processing lib6003-0.0.4-py3.7.egg\n",
            "Removing /usr/local/lib/python3.7/dist-packages/lib6003-0.0.4-py3.7.egg\n",
            "Copying lib6003-0.0.4-py3.7.egg to /usr/local/lib/python3.7/dist-packages\n",
            "lib6003 0.0.4 is already the active version in easy-install.pth\n",
            "\n",
            "Installed /usr/local/lib/python3.7/dist-packages/lib6003-0.0.4-py3.7.egg\n",
            "Processing dependencies for lib6003==0.0.4\n",
            "Searching for Pillow==7.1.2\n",
            "Best match: Pillow 7.1.2\n",
            "Adding Pillow 7.1.2 to easy-install.pth file\n",
            "\n",
            "Using /usr/local/lib/python3.7/dist-packages\n",
            "Searching for numpy==1.19.5\n",
            "Best match: numpy 1.19.5\n",
            "Adding numpy 1.19.5 to easy-install.pth file\n",
            "Installing f2py script to /usr/local/bin\n",
            "Installing f2py3 script to /usr/local/bin\n",
            "Installing f2py3.7 script to /usr/local/bin\n",
            "\n",
            "Using /usr/local/lib/python3.7/dist-packages\n",
            "Searching for matplotlib==3.2.2\n",
            "Best match: matplotlib 3.2.2\n",
            "Adding matplotlib 3.2.2 to easy-install.pth file\n",
            "\n",
            "Using /usr/local/lib/python3.7/dist-packages\n",
            "Searching for python-dateutil==2.8.1\n",
            "Best match: python-dateutil 2.8.1\n",
            "Adding python-dateutil 2.8.1 to easy-install.pth file\n",
            "\n",
            "Using /usr/local/lib/python3.7/dist-packages\n",
            "Searching for pyparsing==2.4.7\n",
            "Best match: pyparsing 2.4.7\n",
            "Adding pyparsing 2.4.7 to easy-install.pth file\n",
            "\n",
            "Using /usr/local/lib/python3.7/dist-packages\n",
            "Searching for cycler==0.10.0\n",
            "Best match: cycler 0.10.0\n",
            "Adding cycler 0.10.0 to easy-install.pth file\n",
            "\n",
            "Using /usr/local/lib/python3.7/dist-packages\n",
            "Searching for kiwisolver==1.3.1\n",
            "Best match: kiwisolver 1.3.1\n",
            "Adding kiwisolver 1.3.1 to easy-install.pth file\n",
            "\n",
            "Using /usr/local/lib/python3.7/dist-packages\n",
            "Searching for six==1.15.0\n",
            "Best match: six 1.15.0\n",
            "Adding six 1.15.0 to easy-install.pth file\n",
            "\n",
            "Using /usr/local/lib/python3.7/dist-packages\n",
            "Finished processing dependencies for lib6003==0.0.4\n",
            "Reading package lists... Done\n",
            "Building dependency tree       \n",
            "Reading state information... Done\n",
            "libportaudio2 is already the newest version (19.6.0-1).\n",
            "libportaudiocpp0 is already the newest version (19.6.0-1).\n",
            "portaudio19-dev is already the newest version (19.6.0-1).\n",
            "libasound2-dev is already the newest version (1.1.3-5ubuntu0.5).\n",
            "ffmpeg is already the newest version (7:3.4.8-0ubuntu0.2).\n",
            "The following package was automatically installed and is no longer required:\n",
            "  libnvidia-common-460\n",
            "Use 'apt autoremove' to remove it.\n",
            "0 upgraded, 0 newly installed, 0 to remove and 34 not upgraded.\n",
            "Requirement already satisfied: pyaudio in /usr/local/lib/python3.7/dist-packages (0.2.11)\n"
          ],
          "name": "stdout"
        }
      ]
    },
    {
      "cell_type": "markdown",
      "metadata": {
        "id": "VFDQnjs9PePn"
      },
      "source": [
        "Once the above block has run, hit Runtime -> Restart runtime and the run the block below to import our libraries."
      ]
    },
    {
      "cell_type": "code",
      "metadata": {
        "id": "Oy3eh9gAKy2j"
      },
      "source": [
        "from lib6003.audio import wav_read, wav_write, wav_play\n",
        "from math import sin, cos, pi, e, log\n",
        "import pyaudio\n",
        "import matplotlib.pyplot as plt \n",
        "import matplotlib.ticker as ticker\n",
        "import scipy\n",
        "import scipy.signal\n",
        "import numpy as np\n"
      ],
      "execution_count": 66,
      "outputs": []
    },
    {
      "cell_type": "markdown",
      "metadata": {
        "id": "MdEZwmT32uQl"
      },
      "source": [
        "In this activity we will focus on how frequency affects the sound and shape of a waveform. We start with a simple tune as shown in the next box. We also set the sampling rate, fs, to 22050 samples/second. Run the following block."
      ]
    },
    {
      "cell_type": "code",
      "metadata": {
        "id": "c-2EveKrLtvK"
      },
      "source": [
        "fs = 22050\n",
        "tune = [(440.0, 0.5), (880.0, 0.5)]"
      ],
      "execution_count": 67,
      "outputs": []
    },
    {
      "cell_type": "markdown",
      "metadata": {
        "id": "a-ywwqsZPxgf"
      },
      "source": [
        "We also include the same helper functions you've seen before -- make_tune, and adjust_volume."
      ]
    },
    {
      "cell_type": "code",
      "metadata": {
        "id": "Qv_JtR0CQANK"
      },
      "source": [
        "def make_tune(tune):\n",
        "    \"\"\"\n",
        "    Constructs wav file samples from frequency, duration list of notes and sampling rate\n",
        "    \"\"\"\n",
        "    period = 0\n",
        "    samples = []\n",
        "    for freq, duration in tune:\n",
        "        period += duration\n",
        "        f = freq\n",
        "        seconds = duration\n",
        "        Omega = 2*pi*f/fs\n",
        "        for n in range(int(seconds*fs)): # TODO: how many samples should we generate?\n",
        "            samples.append(sin(Omega*n))\n",
        "    return samples\n",
        "  \n",
        "def adjust_volume(samples, volume = 1):\n",
        "  \"\"\"\n",
        "  Reconstructs wav file given a list of samples from make_tune and a percentage change in volume (1 = same volume, 0.5 = half volume, 2 = double volume)\n",
        "  \"\"\"\n",
        "  return [i*volume for i in samples]"
      ],
      "execution_count": 68,
      "outputs": []
    },
    {
      "cell_type": "markdown",
      "metadata": {
        "id": "X_O8jUwIQG45"
      },
      "source": [
        "Now we will create and plot the tune given. Run the following code:"
      ]
    },
    {
      "cell_type": "code",
      "metadata": {
        "colab": {
          "base_uri": "https://localhost:8080/",
          "height": 265
        },
        "id": "N9X7TfVgQM5k",
        "outputId": "e89f94f3-86c1-44be-b357-d9ee0f8ccf4f"
      },
      "source": [
        "samples = make_tune(tune)\n",
        "wav_write(samples,fs, \"freq.wav\")\n",
        "plt.plot(samples)\n",
        "plt.show()"
      ],
      "execution_count": 69,
      "outputs": [
        {
          "output_type": "display_data",
          "data": {
            "image/png": "[encoded data removed]",
            "text/plain": [
              "<Figure size 432x288 with 1 Axes>"
            ]
          },
          "metadata": {
            "tags": [],
            "needs_background": "light"
          }
        }
      ]
    },
    {
      "cell_type": "markdown",
      "metadata": {
        "id": "eaOoZxF8Qa8D"
      },
      "source": [
        "This plot doesn't seem super helpful when we try to view the entire signal as a whole! Instead, we introduce a Fourier Transform, a way of viewing the frequencies present in our wave. The code for this is shown below. Run the block below."
      ]
    },
    {
      "cell_type": "code",
      "metadata": {
        "id": "WCkvGwzQQkf8"
      },
      "source": [
        "def plotFFT(samples):\n",
        "  \"\"\"\n",
        "  Plots magnitude response of signal\n",
        "  \"\"\"\n",
        "  w, H = scipy.signal.freqz(samples)\n",
        "  w = [i*fs/(pi*2) for i in w]\n",
        "  plt.stem(w, np.abs(H))\n",
        "  plt.xlim(0, 1000)\n",
        "  plt.title(\"Frequencies\")\n",
        "  plt.xlabel(\"Radian Frequency ($\\omega$)\")\n",
        "  plt.ylabel(\"Amplitude\")\n",
        "  plt.show()"
      ],
      "execution_count": 70,
      "outputs": []
    },
    {
      "cell_type": "markdown",
      "metadata": {
        "id": "Cw6OuKI0Pyfh"
      },
      "source": [
        "With this function, we can now try to view the Fourier Transform of the tune, which will show us the frequencies present, and how intense they each are in the tune. "
      ]
    },
    {
      "cell_type": "code",
      "metadata": {
        "colab": {
          "base_uri": "https://localhost:8080/",
          "height": 356
        },
        "id": "pggbP-AfSUlM",
        "outputId": "c7cd66a0-0e93-42e8-b4d6-4ec93bf12eb5"
      },
      "source": [
        "plotFFT(samples)"
      ],
      "execution_count": 71,
      "outputs": [
        {
          "output_type": "stream",
          "text": [
            "/usr/local/lib/python3.7/dist-packages/ipykernel_launcher.py:7: UserWarning: In Matplotlib 3.3 individual lines on a stem plot will be added as a LineCollection instead of individual lines. This significantly improves the performance of a stem plot. To remove this warning and switch to the new behaviour, set the \"use_line_collection\" keyword argument to True.\n",
            "  import sys\n"
          ],
          "name": "stderr"
        },
        {
          "output_type": "display_data",
          "data": {
            "image/png": "[encoded data removed]",
            "text/plain": [
              "<Figure size 432x288 with 1 Axes>"
            ]
          },
          "metadata": {
            "tags": [],
            "needs_background": "light"
          }
        }
      ]
    },
    {
      "cell_type": "markdown",
      "metadata": {
        "id": "VOYGidavSrt4"
      },
      "source": [
        "We can make much more sense of our signal with this plot! Here we see two clear frequencies -- 440, and 880, as we saw in our tune list. (Note: Since we are working with finite signals, we do not get exactly two values in frequency. We should focus on the clear peaks in these plots as our frequency content.)"
      ]
    },
    {
      "cell_type": "markdown",
      "metadata": {
        "id": "F_QCDEB1SUgm"
      },
      "source": [
        "However, there is something important to note here. Let's say we swapped the order of our tune and ran the same code:"
      ]
    },
    {
      "cell_type": "code",
      "metadata": {
        "colab": {
          "base_uri": "https://localhost:8080/",
          "height": 356
        },
        "id": "zkpO8Op1Se7D",
        "outputId": "57af0cb5-556a-49f8-a1d2-53ecba8d33e9"
      },
      "source": [
        "tune = [(880.0, 0.5), (440.0, 0.5)]\n",
        "samples = make_tune(tune)\n",
        "plotFFT(samples)"
      ],
      "execution_count": 72,
      "outputs": [
        {
          "output_type": "stream",
          "text": [
            "/usr/local/lib/python3.7/dist-packages/ipykernel_launcher.py:7: UserWarning: In Matplotlib 3.3 individual lines on a stem plot will be added as a LineCollection instead of individual lines. This significantly improves the performance of a stem plot. To remove this warning and switch to the new behaviour, set the \"use_line_collection\" keyword argument to True.\n",
            "  import sys\n"
          ],
          "name": "stderr"
        },
        {
          "output_type": "display_data",
          "data": {
            "image/png": "[encoded data removed]",
            "text/plain": [
              "<Figure size 432x288 with 1 Axes>"
            ]
          },
          "metadata": {
            "tags": [],
            "needs_background": "light"
          }
        }
      ]
    },
    {
      "cell_type": "markdown",
      "metadata": {
        "id": "qmDYIq83SniP"
      },
      "source": [
        "We get almost the exact same plot! This is due to the fact that this frequency representation is time-independent, meaning that the order of our notes does not matter. If we want to see the time information for our signal, we need to use a spectrogram, which plots frequencies over time. Below is code for plotting a spectrogram:"
      ]
    },
    {
      "cell_type": "code",
      "metadata": {
        "id": "uL4y49piSzRA"
      },
      "source": [
        "#SPECTROGRAM CODE: DO NOT MODIFY\n",
        "window_size = 2**10\n",
        "step_size = 2**10\n",
        "\n",
        "def fft(x):\n",
        "    if len(x) == 1:\n",
        "        return x\n",
        "    N = len(x)\n",
        "    x_even = x[0::2]\n",
        "    x_odd = x[1::2]\n",
        "    X_even = fft(x_even)\n",
        "    X_odd = fft(x_odd)\n",
        "\n",
        "    return [1/2*(X_even[i]+e**(-2*j*pi*i/N)*X_odd[i]) for i in range(N//2)] + [1/2*(X_even[i]-e**(-2*j*pi*i/N)*X_odd[i]) for i in range(N//2)]\n",
        "  \n",
        "\n",
        "def hann(x):\n",
        "    out = []\n",
        "    for i in range(x):\n",
        "        temp = cos(2*pi*i/(x-1))\n",
        "        out.append(1/2*(1-temp))\n",
        "    return out\n",
        "\n",
        "def transpose(x):\n",
        "    return [[i[j] for i in x] for j in range(len(x[0]))]\n",
        "\n",
        "def k_to_hz(k, window_size, step_size, sample_rate):\n",
        "    # return the frequency in Hz associated with bin number k in an STFT with\n",
        "    # the parameters given above.\n",
        "    return k*sample_rate/window_size\n",
        "\n",
        "\n",
        "def hz_to_k(freq, window_size, step_size, sample_rate):\n",
        "    # return the k value associated with the given frequency in Hz, in an STFT\n",
        "    # with the parameters given above, rounded to the nearest integer.\n",
        "    return round(window_size*freq/sample_rate)\n",
        "\n",
        "\n",
        "def timestep_to_seconds(i, window_size, step_size, sample_rate):\n",
        "    # return the real-world time in seconds associated with the center of the\n",
        "    # ith window in an STFT using the parameters given above, rounded to the\n",
        "    # nearest .01 seconds.\n",
        "    return round((i*step_size+window_size/2)/sample_rate, 2)\n",
        "\n",
        "def stft(x, window_size, step_size, sample_rate):\n",
        "    nsteps = (len(x)-window_size)//step_size + 1\n",
        "    out = []\n",
        "    hann_ = hann(window_size)\n",
        "    for i in range(nsteps):\n",
        "        samples = x[i*step_size:i*step_size+window_size]\n",
        "        samples = [samples[i]*hann_[i] for i in range(window_size)]\n",
        "        fft_ = fft(x[i*step_size:i*step_size+window_size])\n",
        "        out.append(fft_)\n",
        "\n",
        "    return out\n",
        "\n",
        "def spectrogram(X, window_size, step_size, sample_rate):\n",
        "    return [[abs(i)**2 for i in j] for j in transpose(X)]\n",
        "\n",
        "\n",
        "def plot_spectrogram(sgram, window_size, step_size, sample_rate):\n",
        "    # the code below will uses matplotlib to display a spectrogram.  it uses\n",
        "    # your k_to_hz and timestep_to_seconds functions to label the horizontal\n",
        "    # and vertical axes of the plot.\n",
        "    # amplitudes are plotted on a log scale, since human perception of loudness\n",
        "    # is roughly logarithmic.\n",
        "    width = len(sgram[0])\n",
        "    height = len(sgram)//16+1  # only plot values up to N/2\n",
        "\n",
        "    tmp = [[(float('inf') if 0 >= x else x) for x in row] for row in sgram[:height+1]]\n",
        "    smallest = min(min(row) for row in tmp)\n",
        "    plt.imshow([[log(smallest if i == 0 else i) for i in j] for j in sgram[:height+1]], aspect=width/height)\n",
        "\n",
        "    #plt.imshow([[log(i) for i in j] for j in sgram[:height+1]], aspect=width/height)\n",
        "    plt.axis([0, width-1, 0, height-1])\n",
        "\n",
        "    ticks = ticker.FuncFormatter(lambda x, pos: '{0:.1f}'.format(timestep_to_seconds(x, window_size, step_size, sample_rate)))\n",
        "    plt.axes().xaxis.set_major_formatter(ticks)\n",
        "    ticks = ticker.FuncFormatter(lambda y, pos: '{0:.0f}'.format(k_to_hz(y, window_size, step_size, sample_rate)))\n",
        "    plt.axes().yaxis.set_major_formatter(ticks)\n",
        "\n",
        "    plt.xlabel('time [s]')\n",
        "    plt.ylabel('frequency [Hz]')\n",
        "\n",
        "    plt.colorbar()\n",
        "    plt.show()"
      ],
      "execution_count": 77,
      "outputs": []
    },
    {
      "cell_type": "markdown",
      "metadata": {
        "id": "I9rjnNnKTX1t"
      },
      "source": [
        "Here we show the spectrogram for the first tune vs. the second tune."
      ]
    },
    {
      "cell_type": "code",
      "metadata": {
        "colab": {
          "base_uri": "https://localhost:8080/",
          "height": 598
        },
        "id": "sC4sILsFTbAb",
        "outputId": "225964ce-b594-444b-9269-ac1a9836f06c"
      },
      "source": [
        "tune1 = [(440.0, 0.5), (880.0, 0.5)]\n",
        "tune2 = [(880.0, 0.5), (440.0, 0.5)]\n",
        "\n",
        "samples1 = make_tune(tune1)\n",
        "samples2 = make_tune(tune2)\n",
        "\n",
        "stft1 = stft(samples1, window_size, step_size, fs)\n",
        "stft2 = stft(samples2, window_size, step_size, fs)\n",
        "\n",
        "specgram1 = spectrogram(stft1, window_size, step_size, fs)\n",
        "specgram2 = spectrogram(stft2, window_size, step_size, fs)\n",
        "\n",
        "plot_spectrogram(specgram1, window_size, step_size, fs)\n",
        "plot_spectrogram(specgram2, window_size, step_size, fs)"
      ],
      "execution_count": 79,
      "outputs": [
        {
          "output_type": "stream",
          "text": [
            "/usr/local/lib/python3.7/dist-packages/ipykernel_launcher.py:78: MatplotlibDeprecationWarning: Adding an axes using the same arguments as a previous axes currently reuses the earlier instance.  In a future version, a new instance will always be created and returned.  Meanwhile, this warning can be suppressed, and the future behavior ensured, by passing a unique label to each axes instance.\n",
            "/usr/local/lib/python3.7/dist-packages/ipykernel_launcher.py:80: MatplotlibDeprecationWarning: Adding an axes using the same arguments as a previous axes currently reuses the earlier instance.  In a future version, a new instance will always be created and returned.  Meanwhile, this warning can be suppressed, and the future behavior ensured, by passing a unique label to each axes instance.\n"
          ],
          "name": "stderr"
        },
        {
          "output_type": "display_data",
          "data": {
            "image/png": "[encoded data removed]",
            "text/plain": [
              "<Figure size 432x288 with 2 Axes>"
            ]
          },
          "metadata": {
            "tags": [],
            "needs_background": "light"
          }
        },
        {
          "output_type": "display_data",
          "data": {
            "image/png": "[encoded data removed]",
            "text/plain": [
              "<Figure size 432x288 with 2 Axes>"
            ]
          },
          "metadata": {
            "tags": [],
            "needs_background": "light"
          }
        }
      ]
    },
    {
      "cell_type": "markdown",
      "metadata": {
        "id": "fgcSY6I-VUff"
      },
      "source": [
        "Here we see the difference we wanted! Here we can tell that signal 1 shows 440 Hz, and then 880, while signal 2 is flipped. Try running similar code on your own 2-3 note tune!"
      ]
    },
    {
      "cell_type": "code",
      "metadata": {
        "id": "QQj5mMENVhYE"
      },
      "source": [
        "tune3 = #TODO: Fill in your own tune!\n",
        "\n",
        "samples3 = make_tune(tune3)\n",
        "stft3 = stft(samples3, window_size, step_size, fs)\n",
        "\n",
        "specgram3 = spectrogram(stft3, window_size, step_size, fs)\n",
        "\n",
        "plot_spectrogram(specgram3, window_size, step_size, fs)\n",
        "plot_spectrogram(specgram3, window_size, step_size, fs)"
      ],
      "execution_count": null,
      "outputs": []
    },
    {
      "cell_type": "markdown",
      "metadata": {
        "id": "hIDywcN9VrT-"
      },
      "source": [
        "What do you notice about your tune? Does it look how you expected?"
      ]
    },
    {
      "cell_type": "markdown",
      "metadata": {
        "id": "uSNmwPInVtzq"
      },
      "source": [
        "[ANSWER HERE]"
      ]
    }
  ]
}